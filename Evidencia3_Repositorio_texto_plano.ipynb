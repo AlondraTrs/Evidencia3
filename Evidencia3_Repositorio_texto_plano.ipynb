{
  "nbformat": 4,
  "nbformat_minor": 0,
  "metadata": {
    "colab": {
      "provenance": [],
      "authorship_tag": "ABX9TyNKcEKjfvs1dCa7sKCWnl4j",
      "include_colab_link": true
    },
    "kernelspec": {
      "name": "python3",
      "display_name": "Python 3"
    },
    "language_info": {
      "name": "python"
    }
  },
  "cells": [
    {
      "cell_type": "markdown",
      "metadata": {
        "id": "view-in-github",
        "colab_type": "text"
      },
      "source": [
        "<a href=\"https://colab.research.google.com/github/AlondraTrs/Evidencia3/blob/main/Evidencia3_Repositorio_texto_plano.ipynb\" target=\"_parent\"><img src=\"https://colab.research.google.com/assets/colab-badge.svg\" alt=\"Open In Colab\"/></a>"
      ]
    },
    {
      "cell_type": "markdown",
      "source": [
        "**Archivos de texto: creación, escritura y lectura**"
      ],
      "metadata": {
        "id": "Pw-JPIOD8DhH"
      }
    },
    {
      "cell_type": "code",
      "execution_count": null,
      "metadata": {
        "id": "hWMi9wuz7bmz"
      },
      "outputs": [],
      "source": [
        "archi1=open(\"datos.txt\",\"w\")\n",
        "archi1.write(\"Primer línea.\\n\")\n",
        "archi1.write(\"Segunda línea.\\n\")\n",
        "archi1.write(\"Tercer línea.\\n\")\n",
        "archi1.close()"
      ]
    },
    {
      "cell_type": "code",
      "source": [
        "archi1=open(\"datos.txt\",\"r\")\n",
        "contenido=archi1.read()\n",
        "print(contenido)\n",
        "archi1.close()"
      ],
      "metadata": {
        "colab": {
          "base_uri": "https://localhost:8080/"
        },
        "id": "hvC1w_wP7nuo",
        "outputId": "6303a750-dcbc-4c07-8834-4f07d71851b2"
      },
      "execution_count": null,
      "outputs": [
        {
          "output_type": "stream",
          "name": "stdout",
          "text": [
            "Primer línea.\n",
            "Segunda línea.\n",
            "Tercer línea.\n",
            "\n"
          ]
        }
      ]
    },
    {
      "cell_type": "code",
      "source": [
        "archi1=open(\"datos.txt\",\"r\")\n",
        "linea=archi1.readline()\n",
        "while linea!='':\n",
        "    print(linea, end='')\n",
        "    linea=archi1.readline()\n",
        "archi1.close()"
      ],
      "metadata": {
        "colab": {
          "base_uri": "https://localhost:8080/"
        },
        "id": "l3wo_Crv7r4N",
        "outputId": "e982268e-bc33-4440-ac71-155506cdbcd9"
      },
      "execution_count": null,
      "outputs": [
        {
          "output_type": "stream",
          "name": "stdout",
          "text": [
            "Primer línea.\n",
            "Segunda línea.\n",
            "Tercer línea.\n"
          ]
        }
      ]
    },
    {
      "cell_type": "code",
      "source": [
        "archi1=open(\"datos.txt\",\"r\")\n",
        "for linea in archi1:\n",
        "    print(linea, end='')\n",
        "archi1.close()"
      ],
      "metadata": {
        "colab": {
          "base_uri": "https://localhost:8080/"
        },
        "id": "m69lW7ec7vjs",
        "outputId": "6a0cb52e-8852-458c-d690-8c7680793954"
      },
      "execution_count": null,
      "outputs": [
        {
          "output_type": "stream",
          "name": "stdout",
          "text": [
            "Primer línea.\n",
            "Segunda línea.\n",
            "Tercer línea.\n"
          ]
        }
      ]
    },
    {
      "cell_type": "code",
      "source": [
        "archi1=open(\"datos.txt\",\"r\")\n",
        "lineas=archi1.readlines()\n",
        "print('El archivo tiene', len(lineas), 'líneas')\n",
        "print('El contenido del archivo')\n",
        "for linea in lineas:\n",
        "    print(linea, end='')\n",
        "archi1.close()"
      ],
      "metadata": {
        "colab": {
          "base_uri": "https://localhost:8080/"
        },
        "id": "ChrIcqx27xqC",
        "outputId": "fcd51658-86b6-40bd-b354-b4dbb831f9be"
      },
      "execution_count": null,
      "outputs": [
        {
          "output_type": "stream",
          "name": "stdout",
          "text": [
            "El archivo tiene 3 líneas\n",
            "El contenido del archivo\n",
            "Primer línea.\n",
            "Segunda línea.\n",
            "Tercer línea.\n"
          ]
        }
      ]
    },
    {
      "cell_type": "code",
      "source": [
        "archi1=open(\"datos.txt\",\"a\")\n",
        "archi1.write(\"nueva línea 1\\n\")\n",
        "archi1.write(\"nueva línea 2\\n\")\n",
        "archi1.close()\n",
        "archi1=open(\"datos.txt\",\"r\")\n",
        "contenido=archi1.read()\n",
        "print(contenido)\n",
        "archi1.close()"
      ],
      "metadata": {
        "colab": {
          "base_uri": "https://localhost:8080/"
        },
        "id": "aBENOzix7zON",
        "outputId": "1d108b4d-3bb2-4397-94ee-d4b3a6135c4e"
      },
      "execution_count": null,
      "outputs": [
        {
          "output_type": "stream",
          "name": "stdout",
          "text": [
            "Primer línea.\n",
            "Segunda línea.\n",
            "Tercer línea.\n",
            "nueva línea 1\n",
            "nueva línea 2\n",
            "\n"
          ]
        }
      ]
    },
    {
      "cell_type": "code",
      "source": [
        "archi1=open(\"datos.txt\",\"r+\")\n",
        "contenido=archi1.read()\n",
        "print(contenido)\n",
        "archi1.write(\"Otra línea 1\\n\")\n",
        "archi1.write(\"Otra línea 2\\n\")\n",
        "archi1.close()"
      ],
      "metadata": {
        "colab": {
          "base_uri": "https://localhost:8080/"
        },
        "id": "esSUtMGd73Ba",
        "outputId": "5896f426-8696-4705-c470-acc1311041eb"
      },
      "execution_count": null,
      "outputs": [
        {
          "output_type": "stream",
          "name": "stdout",
          "text": [
            "Primer línea.\n",
            "Segunda línea.\n",
            "Tercer línea.\n",
            "nueva línea 1\n",
            "nueva línea 2\n",
            "\n"
          ]
        }
      ]
    },
    {
      "cell_type": "code",
      "source": [
        "archi1=open(\"datos.txt\",\"w\", encoding=\"utf-8\")\n",
        "archi1.write(\"Primer línea.\\n\")\n",
        "archi1.write(\"Segunda línea.\\n\")\n",
        "archi1.write(\"Tercer línea.\\n\")\n",
        "archi1.close()"
      ],
      "metadata": {
        "id": "u8dThvvN73lu"
      },
      "execution_count": null,
      "outputs": []
    }
  ]
}